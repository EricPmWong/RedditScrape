{
 "cells": [
  {
   "cell_type": "markdown",
   "metadata": {},
   "source": [
    "## Project 3 - Webscraping (Nootropics v Supplement subreddits)"
   ]
  },
  {
   "cell_type": "markdown",
   "metadata": {},
   "source": [
    "### Imports"
   ]
  },
  {
   "cell_type": "code",
   "execution_count": 59,
   "metadata": {},
   "outputs": [],
   "source": [
    "import pandas as pd\n",
    "import numpy as np\n",
    "from psaw import PushshiftAPI\n",
    "import datetime as dt\n",
    "from bs4 import BeautifulSoup \n",
    "import requests\n",
    "import re\n",
    "import time\n",
    "from sklearn.model_selection import train_test_split, GridSearchCV\n",
    "from sklearn.feature_extraction.text import CountVectorizer\n",
    "from sklearn.linear_model import LogisticRegression\n",
    "from sklearn.feature_extraction.text import TfidfVectorizer\n",
    "from sklearn.metrics import accuracy_score\n",
    "from sklearn.ensemble import RandomForestClassifier, ExtraTreesClassifier\n",
    "from sklearn.naive_bayes import MultinomialNB\n",
    "from sklearn.neighbors import KNeighborsClassifier\n",
    "from sklearn.preprocessing import StandardScaler\n",
    "from sklearn.metrics import confusion_matrix\n",
    "from sklearn import svm, datasets\n",
    "import seaborn as sns\n",
    "import matplotlib.pyplot as plt\n",
    "%matplotlib inline"
   ]
  },
  {
   "cell_type": "markdown",
   "metadata": {},
   "source": [
    "### Webscraping Setup"
   ]
  },
  {
   "cell_type": "code",
   "execution_count": 3,
   "metadata": {},
   "outputs": [],
   "source": [
    "url = 'https://www.reddit.com/r/Nootropics.json'"
   ]
  },
  {
   "cell_type": "code",
   "execution_count": 4,
   "metadata": {},
   "outputs": [],
   "source": [
    "headers = {'User-agent': 'Edubs'}"
   ]
  },
  {
   "cell_type": "code",
   "execution_count": 5,
   "metadata": {},
   "outputs": [
    {
     "data": {
      "text/plain": [
       "200"
      ]
     },
     "execution_count": 5,
     "metadata": {},
     "output_type": "execute_result"
    }
   ],
   "source": [
    "res = requests.get(url, headers=headers)\n",
    "res.status_code"
   ]
  },
  {
   "cell_type": "code",
   "execution_count": 6,
   "metadata": {},
   "outputs": [],
   "source": [
    "jsondict = res.json()"
   ]
  },
  {
   "cell_type": "code",
   "execution_count": 7,
   "metadata": {},
   "outputs": [
    {
     "data": {
      "text/plain": [
       "['after', 'before', 'children', 'dist', 'modhash']"
      ]
     },
     "execution_count": 7,
     "metadata": {},
     "output_type": "execute_result"
    }
   ],
   "source": [
    "sorted(jsondict['data'].keys())"
   ]
  },
  {
   "cell_type": "code",
   "execution_count": 8,
   "metadata": {},
   "outputs": [
    {
     "data": {
      "text/plain": [
       "['t3_5yisj3',\n",
       " 't3_783dac',\n",
       " 't3_aau3ns',\n",
       " 't3_aaxal2',\n",
       " 't3_aavbno',\n",
       " 't3_aampot',\n",
       " 't3_aawlxo',\n",
       " 't3_aawkny',\n",
       " 't3_aamwgz',\n",
       " 't3_aaw5wh',\n",
       " 't3_aapaj2',\n",
       " 't3_aav70p',\n",
       " 't3_aatumm',\n",
       " 't3_aahdr1',\n",
       " 't3_aaqpm2',\n",
       " 't3_aaki9o',\n",
       " 't3_aaohr8',\n",
       " 't3_aarkko',\n",
       " 't3_aamhl4',\n",
       " 't3_aam2a3',\n",
       " 't3_aapqfr',\n",
       " 't3_aapdv1',\n",
       " 't3_aam1yn',\n",
       " 't3_aaky1g',\n",
       " 't3_aao7n1',\n",
       " 't3_aao77m',\n",
       " 't3_aao2ug']"
      ]
     },
     "execution_count": 8,
     "metadata": {},
     "output_type": "execute_result"
    }
   ],
   "source": [
    "[post['data']['name'] for post in jsondict['data']['children']]"
   ]
  },
  {
   "cell_type": "code",
   "execution_count": 9,
   "metadata": {},
   "outputs": [],
   "source": [
    "param = {'after':'t3_a7v54a'}"
   ]
  },
  {
   "cell_type": "code",
   "execution_count": 10,
   "metadata": {},
   "outputs": [
    {
     "data": {
      "text/plain": [
       "<Response [200]>"
      ]
     },
     "execution_count": 10,
     "metadata": {},
     "output_type": "execute_result"
    }
   ],
   "source": [
    "requests.get(url, params=param, headers=headers)"
   ]
  },
  {
   "cell_type": "markdown",
   "metadata": {},
   "source": [
    "### Getting Nootropics subreddit Data"
   ]
  },
  {
   "cell_type": "code",
   "execution_count": 11,
   "metadata": {},
   "outputs": [
    {
     "name": "stdout",
     "output_type": "stream",
     "text": [
      "0\n",
      "1\n",
      "2\n",
      "3\n",
      "4\n",
      "5\n",
      "6\n",
      "7\n",
      "8\n",
      "9\n",
      "10\n",
      "11\n",
      "12\n",
      "13\n",
      "14\n",
      "15\n",
      "16\n",
      "17\n",
      "18\n",
      "19\n",
      "20\n",
      "21\n",
      "22\n",
      "23\n",
      "24\n",
      "25\n",
      "26\n",
      "27\n",
      "28\n",
      "29\n",
      "30\n",
      "31\n",
      "32\n",
      "33\n",
      "34\n"
     ]
    }
   ],
   "source": [
    "posts = []\n",
    "after = None\n",
    "for x in range(35):\n",
    "    print(x)\n",
    "    if after == None:\n",
    "        params = {}\n",
    "    else:\n",
    "        params = {'after': after}\n",
    "    url = 'https://www.reddit.com/r/Nootropics.json'\n",
    "    res = requests.get(url, params=params, headers=headers)\n",
    "    if res.status_code == 200:\n",
    "        jsondict = res.json()\n",
    "        posts.extend(jsondict['data']['children'])\n",
    "        after= jsondict['data']['after']\n",
    "    else:\n",
    "        print(res.status_code)\n",
    "        break\n",
    "    time.sleep(2)"
   ]
  },
  {
   "cell_type": "code",
   "execution_count": 12,
   "metadata": {},
   "outputs": [
    {
     "data": {
      "text/plain": [
       "765"
      ]
     },
     "execution_count": 12,
     "metadata": {},
     "output_type": "execute_result"
    }
   ],
   "source": [
    "len(set([p['data']['name'] for p in posts]))"
   ]
  },
  {
   "cell_type": "markdown",
   "metadata": {},
   "source": [
    "### Nooptropics subreddit data to Dataframe and CSV"
   ]
  },
  {
   "cell_type": "code",
   "execution_count": 13,
   "metadata": {},
   "outputs": [
    {
     "data": {
      "text/plain": [
       "(764, 2)"
      ]
     },
     "execution_count": 13,
     "metadata": {},
     "output_type": "execute_result"
    }
   ],
   "source": [
    "title = []\n",
    "for x in range(0, len(posts)):\n",
    "    title.append(posts[x]['data']['title'])\n",
    "\n",
    "nootropics = pd.DataFrame(title)\n",
    "nootropics['target'] = 0\n",
    "nootropics.drop_duplicates(inplace=True)\n",
    "nootropics.to_csv('nootropics.csv')\n",
    "nootropics.shape"
   ]
  },
  {
   "cell_type": "markdown",
   "metadata": {},
   "source": [
    "### Getting Supplment Subreddit Data"
   ]
  },
  {
   "cell_type": "code",
   "execution_count": 14,
   "metadata": {},
   "outputs": [
    {
     "name": "stdout",
     "output_type": "stream",
     "text": [
      "0\n",
      "1\n",
      "2\n",
      "3\n",
      "4\n",
      "5\n",
      "6\n",
      "7\n",
      "8\n",
      "9\n",
      "10\n",
      "11\n",
      "12\n",
      "13\n",
      "14\n",
      "15\n",
      "16\n",
      "17\n",
      "18\n",
      "19\n",
      "20\n",
      "21\n",
      "22\n",
      "23\n",
      "24\n",
      "25\n",
      "26\n",
      "27\n",
      "28\n",
      "29\n",
      "30\n",
      "31\n",
      "32\n",
      "33\n",
      "34\n"
     ]
    }
   ],
   "source": [
    "posts2 = []\n",
    "after = None\n",
    "for x in range(35):\n",
    "    print(x)\n",
    "    if after == None:\n",
    "        params = {}\n",
    "    else:\n",
    "        params = {'after': after}\n",
    "    url = 'https://www.reddit.com/r/Supplements.json'\n",
    "    res = requests.get(url, params=params, headers=headers)\n",
    "    if res.status_code == 200:\n",
    "        jsondict = res.json()\n",
    "        posts2.extend(jsondict['data']['children'])\n",
    "        after= jsondict['data']['after']\n",
    "    else:\n",
    "        print(res.status_code)\n",
    "        break\n",
    "    time.sleep(2)"
   ]
  },
  {
   "cell_type": "code",
   "execution_count": 15,
   "metadata": {},
   "outputs": [
    {
     "data": {
      "text/plain": [
       "877"
      ]
     },
     "execution_count": 15,
     "metadata": {},
     "output_type": "execute_result"
    }
   ],
   "source": [
    "len(set([p['data']['name'] for p in posts2]))"
   ]
  },
  {
   "cell_type": "markdown",
   "metadata": {},
   "source": [
    "### Supplement subreddit data to Dataframe and CSV"
   ]
  },
  {
   "cell_type": "code",
   "execution_count": 16,
   "metadata": {},
   "outputs": [
    {
     "data": {
      "text/plain": [
       "(876, 2)"
      ]
     },
     "execution_count": 16,
     "metadata": {},
     "output_type": "execute_result"
    }
   ],
   "source": [
    "title = []\n",
    "for x in range(0, len(posts2)):\n",
    "    title.append(posts2[x]['data']['title'])\n",
    "\n",
    "supp = pd.DataFrame(title)\n",
    "supp['target'] = 1\n",
    "supp.head\n",
    "supp.drop_duplicates(inplace=True)\n",
    "supp.to_csv('supp.csv')\n",
    "supp.shape"
   ]
  },
  {
   "cell_type": "markdown",
   "metadata": {},
   "source": [
    "### Concating Subreddits to 1 data frame and formatting (Note: Target is supplement and assigned to 1)"
   ]
  },
  {
   "cell_type": "code",
   "execution_count": 17,
   "metadata": {},
   "outputs": [
    {
     "data": {
      "text/plain": [
       "(1640, 2)"
      ]
     },
     "execution_count": 17,
     "metadata": {},
     "output_type": "execute_result"
    }
   ],
   "source": [
    "df = pd.concat([nootropics, supp], axis = 0)\n",
    "df = pd.DataFrame(df)\n",
    "df.drop_duplicates(inplace=True)\n",
    "df['target'].value_counts()\n",
    "df.columns = ['title', 'target']\n",
    "df.reset_index(inplace=True, drop=True)\n",
    "df.shape"
   ]
  },
  {
   "cell_type": "markdown",
   "metadata": {},
   "source": [
    "### Count Vectorization for top 15 common words for Supplement and Nootropics "
   ]
  },
  {
   "cell_type": "code",
   "execution_count": 18,
   "metadata": {},
   "outputs": [
    {
     "name": "stdout",
     "output_type": "stream",
     "text": [
      "Nootropics top common words list\n",
      "nootropics     47\n",
      "brain          42\n",
      "effects        42\n",
      "does           41\n",
      "2018           33\n",
      "ashwagandha    30\n",
      "nootropic      30\n",
      "caffeine       29\n",
      "sleep          29\n",
      "theanine       27\n",
      "cognitive      27\n",
      "effect         27\n",
      "long           26\n",
      "experience     26\n",
      "oil            25\n",
      "dtype: int64\n",
      "\n",
      "Supplements top common words list\n",
      "supplements    131\n",
      "vitamin         85\n",
      "supplement      64\n",
      "best            49\n",
      "magnesium       48\n",
      "taking          47\n",
      "oil             37\n",
      "does            36\n",
      "help            34\n",
      "creatine        33\n",
      "workout         32\n",
      "protein         31\n",
      "good            28\n",
      "d3              28\n",
      "pre             26\n",
      "dtype: int64\n"
     ]
    }
   ],
   "source": [
    "cv = CountVectorizer(stop_words='english')\n",
    "dfcv = cv.fit_transform(df['title'])\n",
    "plot1 = pd.DataFrame(dfcv.toarray(), columns=cv.get_feature_names())\n",
    "plot1.index = df['target']\n",
    "print('Nootropics top common words list')\n",
    "print(plot1[plot1.index ==0].sum().sort_values(ascending=False).head(15)) \n",
    "print()\n",
    "print('Supplements top common words list')\n",
    "print(plot1[plot1.index ==1].sum().sort_values(ascending=False).head(15))"
   ]
  },
  {
   "cell_type": "code",
   "execution_count": 47,
   "metadata": {},
   "outputs": [
    {
     "data": {
      "text/plain": [
       "Text(0.5,1,'Nootropics top list')"
      ]
     },
     "execution_count": 47,
     "metadata": {},
     "output_type": "execute_result"
    },
    {
     "data": {
      "image/png": "[encoded data removed]",
      "text/plain": [
       "<Figure size 432x288 with 1 Axes>"
      ]
     },
     "metadata": {
      "needs_background": "light"
     },
     "output_type": "display_data"
    }
   ],
   "source": [
    "noop = plot1[plot1.index ==0].sum().sort_values(ascending=False).head(10).plot(kind='barh')\n",
    "noop.set_ylabel('count')\n",
    "noop.set_xlabel('word')\n",
    "plt.title('Nootropics top list')"
   ]
  },
  {
   "cell_type": "code",
   "execution_count": 48,
   "metadata": {},
   "outputs": [
    {
     "data": {
      "text/plain": [
       "Text(0.5,1,'Supplement top list')"
      ]
     },
     "execution_count": 48,
     "metadata": {},
     "output_type": "execute_result"
    },
    {
     "data": {
      "image/png": "[encoded data removed]",
      "text/plain": [
       "<Figure size 432x288 with 1 Axes>"
      ]
     },
     "metadata": {
      "needs_background": "light"
     },
     "output_type": "display_data"
    }
   ],
   "source": [
    "supps = plot1[plot1.index ==1].sum().sort_values(ascending=False).head(10).plot(kind='barh')\n",
    "supps.set_ylabel('count')\n",
    "supps.set_xlabel('word')\n",
    "plt.title('Supplement top list')"
   ]
  },
  {
   "cell_type": "markdown",
   "metadata": {},
   "source": [
    "### Train Test Split"
   ]
  },
  {
   "cell_type": "code",
   "execution_count": 19,
   "metadata": {},
   "outputs": [],
   "source": [
    "#Train test split\n",
    "X_train, X_test, y_train, y_test = train_test_split(df['title'], df['target'])"
   ]
  },
  {
   "cell_type": "markdown",
   "metadata": {},
   "source": [
    "### Count Vectorizer Fitting to Train data"
   ]
  },
  {
   "cell_type": "code",
   "execution_count": 20,
   "metadata": {},
   "outputs": [],
   "source": [
    "vect = CountVectorizer(stop_words='english', analyzer='word')\n",
    "X_text = vect.fit_transform(X_train)\n",
    "X_trainfit = pd.DataFrame(X_text.toarray(), columns=vect.get_feature_names())"
   ]
  },
  {
   "cell_type": "code",
   "execution_count": 21,
   "metadata": {},
   "outputs": [
    {
     "data": {
      "text/html": [
       "<div>\n",
       "<style scoped>\n",
       "    .dataframe tbody tr th:only-of-type {\n",
       "        vertical-align: middle;\n",
       "    }\n",
       "\n",
       "    .dataframe tbody tr th {\n",
       "        vertical-align: top;\n",
       "    }\n",
       "\n",
       "    .dataframe thead th {\n",
       "        text-align: right;\n",
       "    }\n",
       "</style>\n",
       "<table border=\"1\" class=\"dataframe\">\n",
       "  <thead>\n",
       "    <tr style=\"text-align: right;\">\n",
       "      <th></th>\n",
       "      <th>supplements</th>\n",
       "      <th>vitamin</th>\n",
       "      <th>supplement</th>\n",
       "      <th>does</th>\n",
       "      <th>taking</th>\n",
       "      <th>oil</th>\n",
       "      <th>best</th>\n",
       "      <th>magnesium</th>\n",
       "      <th>brain</th>\n",
       "      <th>effects</th>\n",
       "      <th>sleep</th>\n",
       "      <th>good</th>\n",
       "      <th>nootropics</th>\n",
       "      <th>2018</th>\n",
       "      <th>ashwagandha</th>\n",
       "      <th>caffeine</th>\n",
       "      <th>help</th>\n",
       "      <th>theanine</th>\n",
       "      <th>experience</th>\n",
       "      <th>amp</th>\n",
       "    </tr>\n",
       "  </thead>\n",
       "  <tbody>\n",
       "    <tr>\n",
       "      <th>freq</th>\n",
       "      <td>117</td>\n",
       "      <td>81</td>\n",
       "      <td>63</td>\n",
       "      <td>52</td>\n",
       "      <td>50</td>\n",
       "      <td>48</td>\n",
       "      <td>47</td>\n",
       "      <td>43</td>\n",
       "      <td>42</td>\n",
       "      <td>42</td>\n",
       "      <td>37</td>\n",
       "      <td>35</td>\n",
       "      <td>35</td>\n",
       "      <td>34</td>\n",
       "      <td>34</td>\n",
       "      <td>32</td>\n",
       "      <td>31</td>\n",
       "      <td>30</td>\n",
       "      <td>28</td>\n",
       "      <td>28</td>\n",
       "    </tr>\n",
       "  </tbody>\n",
       "</table>\n",
       "</div>"
      ],
      "text/plain": [
       "      supplements  vitamin  supplement  does  taking  oil  best  magnesium  \\\n",
       "freq          117       81          63    52      50   48    47         43   \n",
       "\n",
       "      brain  effects  sleep  good  nootropics  2018  ashwagandha  caffeine  \\\n",
       "freq     42       42     37    35          35    34           34        32   \n",
       "\n",
       "      help  theanine  experience  amp  \n",
       "freq    31        30          28   28  "
      ]
     },
     "execution_count": 21,
     "metadata": {},
     "output_type": "execute_result"
    }
   ],
   "source": [
    "pd.DataFrame(X_trainfit.sum().sort_values(ascending=False).head(20), columns=['freq']).T"
   ]
  },
  {
   "cell_type": "code",
   "execution_count": 49,
   "metadata": {},
   "outputs": [
    {
     "data": {
      "text/plain": [
       "Text(0.5,0,'Word')"
      ]
     },
     "execution_count": 49,
     "metadata": {},
     "output_type": "execute_result"
    },
    {
     "data": {
      "image/png": "[encoded data removed]",
      "text/plain": [
       "<Figure size 432x288 with 1 Axes>"
      ]
     },
     "metadata": {
      "needs_background": "light"
     },
     "output_type": "display_data"
    }
   ],
   "source": [
    "#Shows top Results for supplements subreddit\n",
    "ax = X_trainfit.sum().sort_values(ascending=False).head(20).plot(kind='barh')\n",
    "plt.title('Trained Data Count Vectorizer')\n",
    "ax.set_ylabel('Word Count')\n",
    "ax.set_xlabel('Word')"
   ]
  },
  {
   "cell_type": "markdown",
   "metadata": {},
   "source": [
    "#### Count Vecotrizer Fitting to Test data"
   ]
  },
  {
   "cell_type": "code",
   "execution_count": 23,
   "metadata": {},
   "outputs": [],
   "source": [
    "X_textvect = vect.transform(X_test)\n",
    "X_testfit = pd.DataFrame(X_textvect.toarray(), columns=vect.get_feature_names())"
   ]
  },
  {
   "cell_type": "code",
   "execution_count": 50,
   "metadata": {},
   "outputs": [
    {
     "data": {
      "text/plain": [
       "Text(0.5,0,'Words')"
      ]
     },
     "execution_count": 50,
     "metadata": {},
     "output_type": "execute_result"
    },
    {
     "data": {
      "image/png": "[encoded data removed]",
      "text/plain": [
       "<Figure size 432x288 with 1 Axes>"
      ]
     },
     "metadata": {
      "needs_background": "light"
     },
     "output_type": "display_data"
    }
   ],
   "source": [
    "#Shows top Results for supplements subreddit\n",
    "ax = X_testfit.sum().sort_values(ascending=False).head(20).plot(kind='barh')\n",
    "plt.title('Test Data Count Vectorizer')\n",
    "ax.set_ylabel('Word Count')\n",
    "ax.set_xlabel('Words')"
   ]
  },
  {
   "cell_type": "markdown",
   "metadata": {},
   "source": [
    "### TFIDF Model"
   ]
  },
  {
   "cell_type": "code",
   "execution_count": 51,
   "metadata": {},
   "outputs": [
    {
     "data": {
      "text/plain": [
       "Text(0.5,0,'Words')"
      ]
     },
     "execution_count": 51,
     "metadata": {},
     "output_type": "execute_result"
    },
    {
     "data": {
      "image/png": "[encoded data removed]",
      "text/plain": [
       "<Figure size 432x288 with 1 Axes>"
      ]
     },
     "metadata": {
      "needs_background": "light"
     },
     "output_type": "display_data"
    }
   ],
   "source": [
    "tvec = TfidfVectorizer(stop_words='english')\n",
    "trainme = tvec.fit_transform(X_train) \n",
    "train_tvec = pd.DataFrame(trainme.toarray(), columns=tvec.get_feature_names())\n",
    "ax =train_tvec.sum().sort_values(ascending=False).head(20).plot(kind='barh')\n",
    "plt.title('TFIDF MODEL TRAIN')\n",
    "ax.set_ylabel('Word Count')\n",
    "ax.set_xlabel('Words')"
   ]
  },
  {
   "cell_type": "code",
   "execution_count": 52,
   "metadata": {},
   "outputs": [
    {
     "data": {
      "text/plain": [
       "Text(0.5,0,'Words')"
      ]
     },
     "execution_count": 52,
     "metadata": {},
     "output_type": "execute_result"
    },
    {
     "data": {
      "image/png": "[encoded data removed]",
      "text/plain": [
       "<Figure size 432x288 with 1 Axes>"
      ]
     },
     "metadata": {
      "needs_background": "light"
     },
     "output_type": "display_data"
    }
   ],
   "source": [
    "testme = tvec.transform(X_test) \n",
    "test_tvec = pd.DataFrame(testme.toarray(), columns=tvec.get_feature_names())\n",
    "ax = test_tvec.sum().sort_values(ascending=False).head(20).plot(kind='barh')\n",
    "plt.title('TFIDF MODEL TEST')\n",
    "ax.set_ylabel('Word Count')\n",
    "ax.set_xlabel('Words')"
   ]
  },
  {
   "cell_type": "markdown",
   "metadata": {},
   "source": [
    "## Remaining Classifiers will use TDIF (I tried both get better fitting with Count Vectorizer NOT TFIDF)"
   ]
  },
  {
   "cell_type": "markdown",
   "metadata": {},
   "source": [
    "### Random Forest Classification"
   ]
  },
  {
   "cell_type": "code",
   "execution_count": 27,
   "metadata": {},
   "outputs": [
    {
     "name": "stderr",
     "output_type": "stream",
     "text": [
      "C:\\ProgramData\\Anaconda3\\lib\\site-packages\\sklearn\\model_selection\\_split.py:1943: FutureWarning: You should specify a value for 'cv' instead of relying on the default value. The default value will change from 3 to 5 in version 0.22.\n",
      "  warnings.warn(CV_WARNING, FutureWarning)\n"
     ]
    },
    {
     "name": "stdout",
     "output_type": "stream",
     "text": [
      "Random Forest Classifier\n",
      "Base Accuracy =  0.9626016260162602\n",
      "Best Parameters:  {'max_depth': None, 'min_samples_split': 10, 'n_estimators': 50}\n",
      "Best Score =  0.7341463414634146\n",
      "Test Score =  0.7341463414634146\n"
     ]
    }
   ],
   "source": [
    "rf = RandomForestClassifier()\n",
    "rf_params = {'n_estimators' : [30,35,40,45,50],\n",
    "             'max_depth': [None, 1,2,3,4,5],\n",
    "             'min_samples_split':[5,6,7,8,9,10] }\n",
    "gs = GridSearchCV(rf, param_grid=rf_params)\n",
    "gs.fit(X_text, y_train)\n",
    "print('Random Forest Classifier')\n",
    "print('Base Accuracy = ', gs.score(X_text, y_train))\n",
    "print('Best Parameters: ', gs.best_params_) \n",
    "print('Best Score = ', gs.best_score_)\n",
    "print('Test Score = ', gs.score(X_textvect, y_test))"
   ]
  },
  {
   "cell_type": "markdown",
   "metadata": {},
   "source": [
    "### Naive Bayes"
   ]
  },
  {
   "cell_type": "code",
   "execution_count": 28,
   "metadata": {},
   "outputs": [
    {
     "name": "stdout",
     "output_type": "stream",
     "text": [
      "Naive Bayes\n",
      "Base Accuracy =  0.9292682926829269\n",
      "Test Score =  0.7682926829268293\n"
     ]
    }
   ],
   "source": [
    "nb = MultinomialNB()\n",
    "NB = nb.fit(X_trainfit, y_train)\n",
    "nbpred = nb.predict(X_testfit)\n",
    "print('Naive Bayes')\n",
    "print('Base Accuracy = ', NB.score(X_trainfit, y_train))\n",
    "print('Test Score = ', NB.score(X_testfit, y_test))"
   ]
  },
  {
   "cell_type": "markdown",
   "metadata": {},
   "source": [
    "### KNN Classifier"
   ]
  },
  {
   "cell_type": "code",
   "execution_count": 29,
   "metadata": {},
   "outputs": [
    {
     "name": "stderr",
     "output_type": "stream",
     "text": [
      "C:\\ProgramData\\Anaconda3\\lib\\site-packages\\sklearn\\preprocessing\\data.py:617: DataConversionWarning: Data with input dtype int64 were all converted to float64 by StandardScaler.\n",
      "  return self.partial_fit(X, y)\n",
      "C:\\ProgramData\\Anaconda3\\lib\\site-packages\\ipykernel_launcher.py:3: DataConversionWarning: Data with input dtype int64 were all converted to float64 by StandardScaler.\n",
      "  This is separate from the ipykernel package so we can avoid doing imports until\n",
      "C:\\ProgramData\\Anaconda3\\lib\\site-packages\\ipykernel_launcher.py:4: DataConversionWarning: Data with input dtype int64 were all converted to float64 by StandardScaler.\n",
      "  after removing the cwd from sys.path.\n"
     ]
    },
    {
     "name": "stdout",
     "output_type": "stream",
     "text": [
      "KNN Classifier\n",
      "Base Accuracy =  0.5682926829268292\n",
      "Test Score =  0.5560975609756098\n"
     ]
    }
   ],
   "source": [
    "ss = StandardScaler()\n",
    "ss.fit(X_trainfit)\n",
    "ssX = ss.transform(X_trainfit) \n",
    "ssXtest = ss.transform(X_testfit)\n",
    "knn = KNeighborsClassifier(n_neighbors=5)\n",
    "knn.fit(ssX, y_train)\n",
    "print('KNN Classifier')\n",
    "print('Base Accuracy = ', knn.score(ssX, y_train))\n",
    "print('Test Score = ', knn.score(ssXtest, y_test))"
   ]
  },
  {
   "cell_type": "markdown",
   "metadata": {},
   "source": [
    "### Support Vector Model"
   ]
  },
  {
   "cell_type": "code",
   "execution_count": 30,
   "metadata": {},
   "outputs": [
    {
     "name": "stdout",
     "output_type": "stream",
     "text": [
      "Support Vector Model\n",
      "Base Accuracy =  0.9292682926829269\n",
      "Test Score =  0.7536585365853659\n"
     ]
    }
   ],
   "source": [
    "svc = svm.SVC(C = 80, kernel= 'rbf', gamma = .001)\n",
    "svc.fit(X_trainfit, y_train)\n",
    "svcXpred = svc.predict(X_trainfit)\n",
    "svcpred = svc.predict(X_testfit)\n",
    "print('Support Vector Model')\n",
    "print('Base Accuracy = ', accuracy_score(svcXpred, y_train))\n",
    "print('Test Score = ',accuracy_score(svcpred, y_test))"
   ]
  },
  {
   "cell_type": "markdown",
   "metadata": {},
   "source": [
    "### Logistic Regression Model"
   ]
  },
  {
   "cell_type": "code",
   "execution_count": 31,
   "metadata": {},
   "outputs": [
    {
     "name": "stdout",
     "output_type": "stream",
     "text": [
      "Logistic Regression\n",
      "Base accuracy =  0.9585365853658536\n",
      "Test accuracy =  0.7731707317073171\n"
     ]
    },
    {
     "name": "stderr",
     "output_type": "stream",
     "text": [
      "C:\\ProgramData\\Anaconda3\\lib\\site-packages\\sklearn\\linear_model\\logistic.py:432: FutureWarning: Default solver will be changed to 'lbfgs' in 0.22. Specify a solver to silence this warning.\n",
      "  FutureWarning)\n"
     ]
    }
   ],
   "source": [
    "lr = LogisticRegression()\n",
    "lr.fit(X_trainfit, y_train)\n",
    "predictions = lr.predict(X_testfit)\n",
    "print('Logistic Regression')\n",
    "print('Base accuracy = ' ,lr.score(X_trainfit, y_train))\n",
    "print('Test accuracy = ' ,lr.score(X_testfit, y_test))"
   ]
  },
  {
   "cell_type": "markdown",
   "metadata": {},
   "source": [
    "## Best Model base/test scores = Logistic Regression"
   ]
  },
  {
   "cell_type": "markdown",
   "metadata": {},
   "source": [
    "### Confusion Matrix Logistic Regression"
   ]
  },
  {
   "cell_type": "code",
   "execution_count": 74,
   "metadata": {},
   "outputs": [
    {
     "data": {
      "text/plain": [
       "array([[132,  54],\n",
       "       [ 39, 185]], dtype=int64)"
      ]
     },
     "execution_count": 74,
     "metadata": {},
     "output_type": "execute_result"
    }
   ],
   "source": [
    "confusion_matrix(y_test, predictions)"
   ]
  },
  {
   "cell_type": "code",
   "execution_count": 75,
   "metadata": {},
   "outputs": [],
   "source": [
    "tn, fp, fn, tp = confusion_matrix(y_test, predictions).ravel()"
   ]
  },
  {
   "cell_type": "code",
   "execution_count": 76,
   "metadata": {},
   "outputs": [
    {
     "name": "stdout",
     "output_type": "stream",
     "text": [
      "True Negatives: 132\n",
      "False Positives: 54\n",
      "False Negatives: 39\n",
      "True Positives: 185\n"
     ]
    }
   ],
   "source": [
    "print(\"True Negatives: %s\" % tn)\n",
    "print(\"False Positives: %s\" % fp)\n",
    "print(\"False Negatives: %s\" % fn)\n",
    "print(\"True Positives: %s\" % tp)"
   ]
  },
  {
   "cell_type": "code",
   "execution_count": 93,
   "metadata": {},
   "outputs": [
    {
     "data": {
      "text/plain": [
       "Text(33,0.5,'Actual')"
      ]
     },
     "execution_count": 93,
     "metadata": {},
     "output_type": "execute_result"
    },
    {
     "data": {
      "image/png": "[encoded data removed]",
      "text/plain": [
       "<Figure size 432x288 with 2 Axes>"
      ]
     },
     "metadata": {
      "needs_background": "light"
     },
     "output_type": "display_data"
    }
   ],
   "source": [
    "sns.heatmap(pd.DataFrame(confusion_matrix(y_test, predictions), ['POS' ,'NEG'],['POS' ,'NEG']), annot=True, fmt='d', cmap='Blues', linewidths=2, linecolor='black')\n",
    "plt.xlabel('Predicted')\n",
    "plt.ylabel('Actual')"
   ]
  },
  {
   "cell_type": "code",
   "execution_count": null,
   "metadata": {},
   "outputs": [],
   "source": []
  },
  {
   "cell_type": "code",
   "execution_count": null,
   "metadata": {},
   "outputs": [],
   "source": []
  }
 ],
 "metadata": {
  "kernelspec": {
   "display_name": "Python 3",
   "language": "python",
   "name": "python3"
  },
  "language_info": {
   "codemirror_mode": {
    "name": "ipython",
    "version": 3
   },
   "file_extension": ".py",
   "mimetype": "text/x-python",
   "name": "python",
   "nbconvert_exporter": "python",
   "pygments_lexer": "ipython3",
   "version": "3.6.6"
  }
 },
 "nbformat": 4,
 "nbformat_minor": 2
}
